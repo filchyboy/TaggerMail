{
 "cells": [
  {
   "cell_type": "code",
   "execution_count": 91,
   "metadata": {
    "colab": {},
    "colab_type": "code",
    "id": "-SzrToVBB_CH"
   },
   "outputs": [],
   "source": [
    "import requests\n",
    "import pandas as pd\n",
    "import numpy as np\n",
    "import ast\n",
    "from sklearn.feature_extraction.text import TfidfVectorizer\n",
    "from sklearn.neighbors import KNeighborsClassifier\n",
    "from sklearn.cluster import KMeans\n",
    "import matplotlib.pyplot as plt\n"
   ]
  },
  {
   "cell_type": "code",
   "execution_count": 92,
   "metadata": {
    "colab": {
     "base_uri": "https://localhost:8080/",
     "height": 34
    },
    "colab_type": "code",
    "id": "tkq1AoaiBmKY",
    "outputId": "8fc4047b-888b-47f0-d7e7-b61076cde220"
   },
   "outputs": [
    {
     "data": {
      "text/plain": [
       "15096914"
      ]
     },
     "execution_count": 92,
     "metadata": {},
     "output_type": "execute_result"
    }
   ],
   "source": [
    "url = 'https://raw.githubusercontent.com/Lambda-School-Labs/tagger-ds/master/notebooks/merged_data_for_KNN.csv'\n",
    "myfile = requests.get(url)\n",
    "open('email.csv', 'wb').write(myfile.content)"
   ]
  },
  {
   "cell_type": "code",
   "execution_count": 93,
   "metadata": {
    "colab": {},
    "colab_type": "code",
    "id": "PxUdjFNwB6rP"
   },
   "outputs": [],
   "source": [
    "labels = pd.read_csv(\"email.csv\")"
   ]
  },
  {
   "cell_type": "code",
   "execution_count": 94,
   "metadata": {
    "colab": {},
    "colab_type": "code",
    "id": "e46NcIy_CD0y"
   },
   "outputs": [],
   "source": [
    "labels = labels.drop(columns = ['subject', 'content_type', 'to_who', 'from_who', 'dates',\n",
    "                      'negative', 'positive', 'compound', 'final_pred', 'neutral',\n",
    "                      'negative.1', 'neutral.1', 'positive.1', 'compound.1',\n",
    "                      'final_pred.1', 'message_id', 'user_tags', 'thread_id' \n",
    "                      ])"
   ]
  },
  {
   "cell_type": "code",
   "execution_count": 95,
   "metadata": {
    "colab": {
     "base_uri": "https://localhost:8080/",
     "height": 419
    },
    "colab_type": "code",
    "id": "_AoVX4BLCEWj",
    "outputId": "b1ff02a7-7a95-44c8-f58d-573cab6ba886"
   },
   "outputs": [
    {
     "data": {
      "text/html": [
       "<div>\n",
       "<style scoped>\n",
       "    .dataframe tbody tr th:only-of-type {\n",
       "        vertical-align: middle;\n",
       "    }\n",
       "\n",
       "    .dataframe tbody tr th {\n",
       "        vertical-align: top;\n",
       "    }\n",
       "\n",
       "    .dataframe thead th {\n",
       "        text-align: right;\n",
       "    }\n",
       "</style>\n",
       "<table border=\"1\" class=\"dataframe\">\n",
       "  <thead>\n",
       "    <tr style=\"text-align: right;\">\n",
       "      <th></th>\n",
       "      <th>smart_tags</th>\n",
       "    </tr>\n",
       "  </thead>\n",
       "  <tbody>\n",
       "    <tr>\n",
       "      <td>0</td>\n",
       "      <td>['forecast']</td>\n",
       "    </tr>\n",
       "    <tr>\n",
       "      <td>1</td>\n",
       "      <td>['travel', 'business', 'meeting', 'take', 'fun...</td>\n",
       "    </tr>\n",
       "    <tr>\n",
       "      <td>2</td>\n",
       "      <td>['test', 'successful', 'way']</td>\n",
       "    </tr>\n",
       "    <tr>\n",
       "      <td>3</td>\n",
       "      <td>['randy', 'send', 'schedule', 'salary', 'level...</td>\n",
       "    </tr>\n",
       "    <tr>\n",
       "      <td>4</td>\n",
       "      <td>['let', 'shoot', 'tuesday']</td>\n",
       "    </tr>\n",
       "    <tr>\n",
       "      <td>...</td>\n",
       "      <td>...</td>\n",
       "    </tr>\n",
       "    <tr>\n",
       "      <td>9995</td>\n",
       "      <td>['s', 'pretty', 'sexy', 'huh', 'get', 'talk', ...</td>\n",
       "    </tr>\n",
       "    <tr>\n",
       "      <td>9996</td>\n",
       "      <td>['copy', 'idea', 'screw']</td>\n",
       "    </tr>\n",
       "    <tr>\n",
       "      <td>9997</td>\n",
       "      <td>[' ', 'forward', 'eric', 'basshouect', 'troy',...</td>\n",
       "    </tr>\n",
       "    <tr>\n",
       "      <td>9998</td>\n",
       "      <td>['buy', 'enron', 's']</td>\n",
       "    </tr>\n",
       "    <tr>\n",
       "      <td>9999</td>\n",
       "      <td>['yea', 'thank', 'remind', 'bday', 'nearly', '...</td>\n",
       "    </tr>\n",
       "  </tbody>\n",
       "</table>\n",
       "<p>10000 rows × 1 columns</p>\n",
       "</div>"
      ],
      "text/plain": [
       "                                             smart_tags\n",
       "0                                          ['forecast']\n",
       "1     ['travel', 'business', 'meeting', 'take', 'fun...\n",
       "2                         ['test', 'successful', 'way']\n",
       "3     ['randy', 'send', 'schedule', 'salary', 'level...\n",
       "4                           ['let', 'shoot', 'tuesday']\n",
       "...                                                 ...\n",
       "9995  ['s', 'pretty', 'sexy', 'huh', 'get', 'talk', ...\n",
       "9996                          ['copy', 'idea', 'screw']\n",
       "9997  [' ', 'forward', 'eric', 'basshouect', 'troy',...\n",
       "9998                              ['buy', 'enron', 's']\n",
       "9999  ['yea', 'thank', 'remind', 'bday', 'nearly', '...\n",
       "\n",
       "[10000 rows x 1 columns]"
      ]
     },
     "execution_count": 95,
     "metadata": {},
     "output_type": "execute_result"
    }
   ],
   "source": [
    "labels"
   ]
  },
  {
   "cell_type": "code",
   "execution_count": 96,
   "metadata": {
    "colab": {},
    "colab_type": "code",
    "id": "lYMZF-DkDIO7"
   },
   "outputs": [],
   "source": [
    "labeled_list = labels['smart_tags'].to_list()"
   ]
  },
  {
   "cell_type": "code",
   "execution_count": 97,
   "metadata": {
    "colab": {},
    "colab_type": "code",
    "id": "Qvaacc3uNQK4"
   },
   "outputs": [],
   "source": [
    "labeled_list = [inner for item in labeled_list for inner in ast.literal_eval(item)] "
   ]
  },
  {
   "cell_type": "code",
   "execution_count": 98,
   "metadata": {
    "colab": {
     "base_uri": "https://localhost:8080/",
     "height": 34
    },
    "colab_type": "code",
    "id": "QAMCdWlnO6FX",
    "outputId": "eff99f41-4f50-45f2-a85f-04e85daffa53"
   },
   "outputs": [
    {
     "data": {
      "text/plain": [
       "1263664"
      ]
     },
     "execution_count": 98,
     "metadata": {},
     "output_type": "execute_result"
    }
   ],
   "source": [
    "len(labeled_list)"
   ]
  },
  {
   "cell_type": "code",
   "execution_count": 99,
   "metadata": {
    "colab": {},
    "colab_type": "code",
    "id": "GQIPNmRdDw9O"
   },
   "outputs": [],
   "source": [
    "labeled_list = set(labeled_list)"
   ]
  },
  {
   "cell_type": "code",
   "execution_count": 100,
   "metadata": {
    "colab": {
     "base_uri": "https://localhost:8080/",
     "height": 34
    },
    "colab_type": "code",
    "id": "OCXO-7VrO9QW",
    "outputId": "c2766393-feb4-4716-d669-9c86dc4ddc65"
   },
   "outputs": [
    {
     "data": {
      "text/plain": [
       "45828"
      ]
     },
     "execution_count": 100,
     "metadata": {},
     "output_type": "execute_result"
    }
   ],
   "source": [
    "len(labeled_list)"
   ]
  },
  {
   "cell_type": "markdown",
   "metadata": {
    "colab_type": "text",
    "id": "OIuEva2VKulT"
   },
   "source": [
    "The following is a list of lists to be used as labels. labeled_list"
   ]
  },
  {
   "cell_type": "code",
   "execution_count": 101,
   "metadata": {
    "colab": {
     "base_uri": "https://localhost:8080/",
     "height": 1000
    },
    "colab_type": "code",
    "id": "lMMgYp67PQr5",
    "outputId": "4576f7dd-923b-4b5e-c32e-8f06f0ca3f62"
   },
   "outputs": [
    {
     "data": {
      "text/plain": [
       "45828"
      ]
     },
     "execution_count": 101,
     "metadata": {},
     "output_type": "execute_result"
    }
   ],
   "source": [
    "len(labeled_list)"
   ]
  },
  {
   "cell_type": "markdown",
   "metadata": {
    "colab_type": "text",
    "id": "oTSkRa8BLKOV"
   },
   "source": [
    "Here is a list of search phrases. Each of these needs to be labeled by a KNN model with one of the labels above, ie. labeled_list"
   ]
  },
  {
   "cell_type": "code",
   "execution_count": 102,
   "metadata": {
    "colab": {},
    "colab_type": "code",
    "id": "lxW9n-doLXTO"
   },
   "outputs": [],
   "source": [
    "searches = ['trip to Austin', 'when is the first quarter report due', 'documentation for project', 'resolved issue with phillip', 'where are you on san marcos', 'vacation ideas']"
   ]
  },
  {
   "cell_type": "code",
   "execution_count": 103,
   "metadata": {
    "colab": {
     "base_uri": "https://localhost:8080/",
     "height": 34
    },
    "colab_type": "code",
    "id": "xpkh8pUeOT4y",
    "outputId": "6d4a01bc-f241-4710-d92a-dcc6225de717"
   },
   "outputs": [
    {
     "data": {
      "text/plain": [
       "29340319"
      ]
     },
     "execution_count": 103,
     "metadata": {},
     "output_type": "execute_result"
    }
   ],
   "source": [
    "url = 'https://raw.githubusercontent.com/Lambda-School-Labs/tagger-ds/master/notebooks/merged_data_for_KNN_with_body.csv'\n",
    "myfile = requests.get(url)\n",
    "open('email.csv', 'wb').write(myfile.content)"
   ]
  },
  {
   "cell_type": "code",
   "execution_count": 104,
   "metadata": {
    "colab": {},
    "colab_type": "code",
    "id": "dZsy3yZ2ijut"
   },
   "outputs": [],
   "source": [
    "body = pd.read_csv(\"email.csv\")"
   ]
  },
  {
   "cell_type": "code",
   "execution_count": 105,
   "metadata": {
    "colab": {
     "base_uri": "https://localhost:8080/",
     "height": 1000
    },
    "colab_type": "code",
    "id": "UouKZehGi5i4",
    "outputId": "dfdff523-b98e-4bd6-bfd9-51e5b7676975"
   },
   "outputs": [
    {
     "data": {
      "text/html": [
       "<div>\n",
       "<style scoped>\n",
       "    .dataframe tbody tr th:only-of-type {\n",
       "        vertical-align: middle;\n",
       "    }\n",
       "\n",
       "    .dataframe tbody tr th {\n",
       "        vertical-align: top;\n",
       "    }\n",
       "\n",
       "    .dataframe thead th {\n",
       "        text-align: right;\n",
       "    }\n",
       "</style>\n",
       "<table border=\"1\" class=\"dataframe\">\n",
       "  <thead>\n",
       "    <tr style=\"text-align: right;\">\n",
       "      <th></th>\n",
       "      <th>email_body</th>\n",
       "      <th>subject</th>\n",
       "      <th>content_type</th>\n",
       "      <th>to_who</th>\n",
       "      <th>from_who</th>\n",
       "      <th>dates</th>\n",
       "      <th>negative</th>\n",
       "      <th>neutral</th>\n",
       "      <th>positive</th>\n",
       "      <th>compound</th>\n",
       "      <th>final_pred</th>\n",
       "      <th>smart_tags</th>\n",
       "      <th>negative.1</th>\n",
       "      <th>neutral.1</th>\n",
       "      <th>positive.1</th>\n",
       "      <th>compound.1</th>\n",
       "      <th>final_pred.1</th>\n",
       "      <th>message_id</th>\n",
       "      <th>user_tags</th>\n",
       "      <th>thread_id</th>\n",
       "    </tr>\n",
       "  </thead>\n",
       "  <tbody>\n",
       "    <tr>\n",
       "      <td>0</td>\n",
       "      <td>here is our forecast</td>\n",
       "      <td>Subject:</td>\n",
       "      <td>Content-Type: text/plain; charset=us-ascii</td>\n",
       "      <td>NaN</td>\n",
       "      <td>From: phillip.allen@enron.com</td>\n",
       "      <td>Date: Mon, 14 May 2001 16:39:00 -0700 (PDT)</td>\n",
       "      <td>0.000</td>\n",
       "      <td>1.000</td>\n",
       "      <td>0.000</td>\n",
       "      <td>0.0000</td>\n",
       "      <td>3</td>\n",
       "      <td>['forecast']</td>\n",
       "      <td>0.000</td>\n",
       "      <td>1.000</td>\n",
       "      <td>0.000</td>\n",
       "      <td>0.0000</td>\n",
       "      <td>3.0</td>\n",
       "      <td>1</td>\n",
       "      <td>NaN</td>\n",
       "      <td>NaN</td>\n",
       "    </tr>\n",
       "    <tr>\n",
       "      <td>1</td>\n",
       "      <td>traveling to have a business meeting takes the...</td>\n",
       "      <td>Subject: Re:</td>\n",
       "      <td>Content-Type: text/plain; charset=us-ascii</td>\n",
       "      <td>NaN</td>\n",
       "      <td>From: phillip.allen@enron.com</td>\n",
       "      <td>Date: Fri, 4 May 2001 13:51:00 -0700 (PDT)</td>\n",
       "      <td>0.000</td>\n",
       "      <td>0.893</td>\n",
       "      <td>0.107</td>\n",
       "      <td>0.9313</td>\n",
       "      <td>5</td>\n",
       "      <td>['travel', 'business', 'meeting', 'take', 'fun...</td>\n",
       "      <td>0.000</td>\n",
       "      <td>0.893</td>\n",
       "      <td>0.107</td>\n",
       "      <td>0.9313</td>\n",
       "      <td>5.0</td>\n",
       "      <td>2</td>\n",
       "      <td>NaN</td>\n",
       "      <td>NaN</td>\n",
       "    </tr>\n",
       "    <tr>\n",
       "      <td>2</td>\n",
       "      <td>test successful way to go</td>\n",
       "      <td>Subject: Re: test</td>\n",
       "      <td>Content-Type: text/plain; charset=us-ascii</td>\n",
       "      <td>NaN</td>\n",
       "      <td>From: phillip.allen@enron.com</td>\n",
       "      <td>Date: Wed, 18 Oct 2000 03:00:00 -0700 (PDT)</td>\n",
       "      <td>0.000</td>\n",
       "      <td>0.513</td>\n",
       "      <td>0.487</td>\n",
       "      <td>0.5859</td>\n",
       "      <td>4</td>\n",
       "      <td>['test', 'successful', 'way']</td>\n",
       "      <td>0.000</td>\n",
       "      <td>0.513</td>\n",
       "      <td>0.487</td>\n",
       "      <td>0.5859</td>\n",
       "      <td>4.0</td>\n",
       "      <td>3</td>\n",
       "      <td>NaN</td>\n",
       "      <td>NaN</td>\n",
       "    </tr>\n",
       "    <tr>\n",
       "      <td>3</td>\n",
       "      <td>randy can you send me a schedule of the salary...</td>\n",
       "      <td>Subject:</td>\n",
       "      <td>Content-Type: text/plain; charset=us-ascii</td>\n",
       "      <td>NaN</td>\n",
       "      <td>From: phillip.allen@enron.com</td>\n",
       "      <td>Date: Mon, 23 Oct 2000 06:13:00 -0700 (PDT)</td>\n",
       "      <td>0.000</td>\n",
       "      <td>1.000</td>\n",
       "      <td>0.000</td>\n",
       "      <td>0.0000</td>\n",
       "      <td>3</td>\n",
       "      <td>['randy', 'send', 'schedule', 'salary', 'level...</td>\n",
       "      <td>0.000</td>\n",
       "      <td>1.000</td>\n",
       "      <td>0.000</td>\n",
       "      <td>0.0000</td>\n",
       "      <td>3.0</td>\n",
       "      <td>4</td>\n",
       "      <td>NaN</td>\n",
       "      <td>NaN</td>\n",
       "    </tr>\n",
       "    <tr>\n",
       "      <td>4</td>\n",
       "      <td>lets shoot for tuesday at</td>\n",
       "      <td>Subject: Re: Hello</td>\n",
       "      <td>Content-Type: text/plain; charset=us-ascii</td>\n",
       "      <td>NaN</td>\n",
       "      <td>From: phillip.allen@enron.com</td>\n",
       "      <td>Date: Thu, 31 Aug 2000 05:07:00 -0700 (PDT)</td>\n",
       "      <td>0.375</td>\n",
       "      <td>0.625</td>\n",
       "      <td>0.000</td>\n",
       "      <td>-0.3400</td>\n",
       "      <td>2</td>\n",
       "      <td>['let', 'shoot', 'tuesday']</td>\n",
       "      <td>0.375</td>\n",
       "      <td>0.625</td>\n",
       "      <td>0.000</td>\n",
       "      <td>-0.3400</td>\n",
       "      <td>2.0</td>\n",
       "      <td>5</td>\n",
       "      <td>NaN</td>\n",
       "      <td>NaN</td>\n",
       "    </tr>\n",
       "    <tr>\n",
       "      <td>...</td>\n",
       "      <td>...</td>\n",
       "      <td>...</td>\n",
       "      <td>...</td>\n",
       "      <td>...</td>\n",
       "      <td>...</td>\n",
       "      <td>...</td>\n",
       "      <td>...</td>\n",
       "      <td>...</td>\n",
       "      <td>...</td>\n",
       "      <td>...</td>\n",
       "      <td>...</td>\n",
       "      <td>...</td>\n",
       "      <td>...</td>\n",
       "      <td>...</td>\n",
       "      <td>...</td>\n",
       "      <td>...</td>\n",
       "      <td>...</td>\n",
       "      <td>...</td>\n",
       "      <td>...</td>\n",
       "      <td>...</td>\n",
       "    </tr>\n",
       "    <tr>\n",
       "      <td>9995</td>\n",
       "      <td>shes pretty sexy huh are we getting together t...</td>\n",
       "      <td>Subject: Re: Evite: Super Bowl Party</td>\n",
       "      <td>Content-Type: text/plain; charset=us-ascii</td>\n",
       "      <td>NaN</td>\n",
       "      <td>From: eric.bass@enron.com</td>\n",
       "      <td>Date: Tue, 25 Jan 2000 02:31:00 -0800 (PST)</td>\n",
       "      <td>0.031</td>\n",
       "      <td>0.799</td>\n",
       "      <td>0.170</td>\n",
       "      <td>0.9895</td>\n",
       "      <td>5</td>\n",
       "      <td>['s', 'pretty', 'sexy', 'huh', 'get', 'talk', ...</td>\n",
       "      <td>NaN</td>\n",
       "      <td>NaN</td>\n",
       "      <td>NaN</td>\n",
       "      <td>NaN</td>\n",
       "      <td>NaN</td>\n",
       "      <td>9996</td>\n",
       "      <td>NaN</td>\n",
       "      <td>NaN</td>\n",
       "    </tr>\n",
       "    <tr>\n",
       "      <td>9996</td>\n",
       "      <td>i copied your idea and it screwed up your name</td>\n",
       "      <td>Subject:</td>\n",
       "      <td>Content-Type: text/plain; charset=us-ascii</td>\n",
       "      <td>NaN</td>\n",
       "      <td>From: eric.bass@enron.com</td>\n",
       "      <td>Date: Tue, 25 Jan 2000 02:15:00 -0800 (PST)</td>\n",
       "      <td>0.262</td>\n",
       "      <td>0.738</td>\n",
       "      <td>0.000</td>\n",
       "      <td>-0.4939</td>\n",
       "      <td>2</td>\n",
       "      <td>['copy', 'idea', 'screw']</td>\n",
       "      <td>NaN</td>\n",
       "      <td>NaN</td>\n",
       "      <td>NaN</td>\n",
       "      <td>NaN</td>\n",
       "      <td>NaN</td>\n",
       "      <td>9997</td>\n",
       "      <td>NaN</td>\n",
       "      <td>NaN</td>\n",
       "    </tr>\n",
       "    <tr>\n",
       "      <td>9997</td>\n",
       "      <td>forwarded by eric basshouect on am troy kluss...</td>\n",
       "      <td>Subject: 9912 Texas Financial Liquidations</td>\n",
       "      <td>Content-Type: text/plain; charset=us-ascii</td>\n",
       "      <td>NaN</td>\n",
       "      <td>From: eric.bass@enron.com</td>\n",
       "      <td>Date: Tue, 25 Jan 2000 01:36:00 -0800 (PST)</td>\n",
       "      <td>0.000</td>\n",
       "      <td>0.914</td>\n",
       "      <td>0.086</td>\n",
       "      <td>0.4404</td>\n",
       "      <td>4</td>\n",
       "      <td>[' ', 'forward', 'eric', 'basshouect', 'troy',...</td>\n",
       "      <td>NaN</td>\n",
       "      <td>NaN</td>\n",
       "      <td>NaN</td>\n",
       "      <td>NaN</td>\n",
       "      <td>NaN</td>\n",
       "      <td>9998</td>\n",
       "      <td>NaN</td>\n",
       "      <td>NaN</td>\n",
       "    </tr>\n",
       "    <tr>\n",
       "      <td>9998</td>\n",
       "      <td>did you buy any enron in the s</td>\n",
       "      <td>Subject:</td>\n",
       "      <td>Content-Type: text/plain; charset=us-ascii</td>\n",
       "      <td>NaN</td>\n",
       "      <td>From: eric.bass@enron.com</td>\n",
       "      <td>Date: Wed, 6 Dec 2000 06:03:00 -0800 (PST)</td>\n",
       "      <td>0.000</td>\n",
       "      <td>1.000</td>\n",
       "      <td>0.000</td>\n",
       "      <td>0.0000</td>\n",
       "      <td>3</td>\n",
       "      <td>['buy', 'enron', 's']</td>\n",
       "      <td>NaN</td>\n",
       "      <td>NaN</td>\n",
       "      <td>NaN</td>\n",
       "      <td>NaN</td>\n",
       "      <td>NaN</td>\n",
       "      <td>9999</td>\n",
       "      <td>NaN</td>\n",
       "      <td>NaN</td>\n",
       "    </tr>\n",
       "    <tr>\n",
       "      <td>9999</td>\n",
       "      <td>yea thanks for reminding me about your bday i ...</td>\n",
       "      <td>Subject: Re:</td>\n",
       "      <td>Content-Type: text/plain; charset=us-ascii</td>\n",
       "      <td>NaN</td>\n",
       "      <td>From: eric.bass@enron.com</td>\n",
       "      <td>Date: Mon, 24 Jan 2000 08:36:00 -0800 (PST)</td>\n",
       "      <td>0.000</td>\n",
       "      <td>0.829</td>\n",
       "      <td>0.171</td>\n",
       "      <td>0.8442</td>\n",
       "      <td>5</td>\n",
       "      <td>['yea', 'thank', 'remind', 'bday', 'nearly', '...</td>\n",
       "      <td>NaN</td>\n",
       "      <td>NaN</td>\n",
       "      <td>NaN</td>\n",
       "      <td>NaN</td>\n",
       "      <td>NaN</td>\n",
       "      <td>10000</td>\n",
       "      <td>NaN</td>\n",
       "      <td>NaN</td>\n",
       "    </tr>\n",
       "  </tbody>\n",
       "</table>\n",
       "<p>10000 rows × 20 columns</p>\n",
       "</div>"
      ],
      "text/plain": [
       "                                             email_body  \\\n",
       "0                                  here is our forecast   \n",
       "1     traveling to have a business meeting takes the...   \n",
       "2                             test successful way to go   \n",
       "3     randy can you send me a schedule of the salary...   \n",
       "4                            lets shoot for tuesday at    \n",
       "...                                                 ...   \n",
       "9995  shes pretty sexy huh are we getting together t...   \n",
       "9996     i copied your idea and it screwed up your name   \n",
       "9997   forwarded by eric basshouect on am troy kluss...   \n",
       "9998                     did you buy any enron in the s   \n",
       "9999  yea thanks for reminding me about your bday i ...   \n",
       "\n",
       "                                         subject  \\\n",
       "0                                       Subject:   \n",
       "1                                   Subject: Re:   \n",
       "2                              Subject: Re: test   \n",
       "3                                       Subject:   \n",
       "4                             Subject: Re: Hello   \n",
       "...                                          ...   \n",
       "9995        Subject: Re: Evite: Super Bowl Party   \n",
       "9996                                    Subject:   \n",
       "9997  Subject: 9912 Texas Financial Liquidations   \n",
       "9998                                    Subject:   \n",
       "9999                                Subject: Re:   \n",
       "\n",
       "                                    content_type  to_who  \\\n",
       "0     Content-Type: text/plain; charset=us-ascii     NaN   \n",
       "1     Content-Type: text/plain; charset=us-ascii     NaN   \n",
       "2     Content-Type: text/plain; charset=us-ascii     NaN   \n",
       "3     Content-Type: text/plain; charset=us-ascii     NaN   \n",
       "4     Content-Type: text/plain; charset=us-ascii     NaN   \n",
       "...                                          ...     ...   \n",
       "9995  Content-Type: text/plain; charset=us-ascii     NaN   \n",
       "9996  Content-Type: text/plain; charset=us-ascii     NaN   \n",
       "9997  Content-Type: text/plain; charset=us-ascii     NaN   \n",
       "9998  Content-Type: text/plain; charset=us-ascii     NaN   \n",
       "9999  Content-Type: text/plain; charset=us-ascii     NaN   \n",
       "\n",
       "                           from_who  \\\n",
       "0     From: phillip.allen@enron.com   \n",
       "1     From: phillip.allen@enron.com   \n",
       "2     From: phillip.allen@enron.com   \n",
       "3     From: phillip.allen@enron.com   \n",
       "4     From: phillip.allen@enron.com   \n",
       "...                             ...   \n",
       "9995      From: eric.bass@enron.com   \n",
       "9996      From: eric.bass@enron.com   \n",
       "9997      From: eric.bass@enron.com   \n",
       "9998      From: eric.bass@enron.com   \n",
       "9999      From: eric.bass@enron.com   \n",
       "\n",
       "                                            dates  negative  neutral  \\\n",
       "0     Date: Mon, 14 May 2001 16:39:00 -0700 (PDT)     0.000    1.000   \n",
       "1      Date: Fri, 4 May 2001 13:51:00 -0700 (PDT)     0.000    0.893   \n",
       "2     Date: Wed, 18 Oct 2000 03:00:00 -0700 (PDT)     0.000    0.513   \n",
       "3     Date: Mon, 23 Oct 2000 06:13:00 -0700 (PDT)     0.000    1.000   \n",
       "4     Date: Thu, 31 Aug 2000 05:07:00 -0700 (PDT)     0.375    0.625   \n",
       "...                                           ...       ...      ...   \n",
       "9995  Date: Tue, 25 Jan 2000 02:31:00 -0800 (PST)     0.031    0.799   \n",
       "9996  Date: Tue, 25 Jan 2000 02:15:00 -0800 (PST)     0.262    0.738   \n",
       "9997  Date: Tue, 25 Jan 2000 01:36:00 -0800 (PST)     0.000    0.914   \n",
       "9998   Date: Wed, 6 Dec 2000 06:03:00 -0800 (PST)     0.000    1.000   \n",
       "9999  Date: Mon, 24 Jan 2000 08:36:00 -0800 (PST)     0.000    0.829   \n",
       "\n",
       "      positive  compound  final_pred  \\\n",
       "0        0.000    0.0000           3   \n",
       "1        0.107    0.9313           5   \n",
       "2        0.487    0.5859           4   \n",
       "3        0.000    0.0000           3   \n",
       "4        0.000   -0.3400           2   \n",
       "...        ...       ...         ...   \n",
       "9995     0.170    0.9895           5   \n",
       "9996     0.000   -0.4939           2   \n",
       "9997     0.086    0.4404           4   \n",
       "9998     0.000    0.0000           3   \n",
       "9999     0.171    0.8442           5   \n",
       "\n",
       "                                             smart_tags  negative.1  \\\n",
       "0                                          ['forecast']       0.000   \n",
       "1     ['travel', 'business', 'meeting', 'take', 'fun...       0.000   \n",
       "2                         ['test', 'successful', 'way']       0.000   \n",
       "3     ['randy', 'send', 'schedule', 'salary', 'level...       0.000   \n",
       "4                           ['let', 'shoot', 'tuesday']       0.375   \n",
       "...                                                 ...         ...   \n",
       "9995  ['s', 'pretty', 'sexy', 'huh', 'get', 'talk', ...         NaN   \n",
       "9996                          ['copy', 'idea', 'screw']         NaN   \n",
       "9997  [' ', 'forward', 'eric', 'basshouect', 'troy',...         NaN   \n",
       "9998                              ['buy', 'enron', 's']         NaN   \n",
       "9999  ['yea', 'thank', 'remind', 'bday', 'nearly', '...         NaN   \n",
       "\n",
       "      neutral.1  positive.1  compound.1  final_pred.1  message_id  user_tags  \\\n",
       "0         1.000       0.000      0.0000           3.0           1        NaN   \n",
       "1         0.893       0.107      0.9313           5.0           2        NaN   \n",
       "2         0.513       0.487      0.5859           4.0           3        NaN   \n",
       "3         1.000       0.000      0.0000           3.0           4        NaN   \n",
       "4         0.625       0.000     -0.3400           2.0           5        NaN   \n",
       "...         ...         ...         ...           ...         ...        ...   \n",
       "9995        NaN         NaN         NaN           NaN        9996        NaN   \n",
       "9996        NaN         NaN         NaN           NaN        9997        NaN   \n",
       "9997        NaN         NaN         NaN           NaN        9998        NaN   \n",
       "9998        NaN         NaN         NaN           NaN        9999        NaN   \n",
       "9999        NaN         NaN         NaN           NaN       10000        NaN   \n",
       "\n",
       "      thread_id  \n",
       "0           NaN  \n",
       "1           NaN  \n",
       "2           NaN  \n",
       "3           NaN  \n",
       "4           NaN  \n",
       "...         ...  \n",
       "9995        NaN  \n",
       "9996        NaN  \n",
       "9997        NaN  \n",
       "9998        NaN  \n",
       "9999        NaN  \n",
       "\n",
       "[10000 rows x 20 columns]"
      ]
     },
     "execution_count": 105,
     "metadata": {},
     "output_type": "execute_result"
    }
   ],
   "source": [
    "body"
   ]
  },
  {
   "cell_type": "code",
   "execution_count": 106,
   "metadata": {
    "colab": {},
    "colab_type": "code",
    "id": "uYtuv_M3ipTw"
   },
   "outputs": [],
   "source": [
    "body = body.drop(columns = [\n",
    "'content_type',\n",
    "'to_who',\n",
    "'from_who',\n",
    "'dates',\n",
    "'negative',\n",
    "'neutral',\n",
    "'positive',\n",
    "'compound',\n",
    "'final_pred',\n",
    "'negative.1',\n",
    "'neutral.1',\n",
    "'positive.1',\n",
    "'compound.1',\n",
    "'final_pred.1',\n",
    "'message_id',\n",
    "'user_tags',\n",
    "'thread_id'])\n"
   ]
  },
  {
   "cell_type": "code",
   "execution_count": 107,
   "metadata": {
    "colab": {},
    "colab_type": "code",
    "id": "2zJEj-rsjHtX"
   },
   "outputs": [],
   "source": [
    "body = body.dropna()"
   ]
  },
  {
   "cell_type": "code",
   "execution_count": 108,
   "metadata": {
    "colab": {
     "base_uri": "https://localhost:8080/",
     "height": 419
    },
    "colab_type": "code",
    "id": "RfwhZdS-rKrR",
    "outputId": "137df45e-2aca-464a-d8cf-03c079d83be5"
   },
   "outputs": [
    {
     "data": {
      "text/html": [
       "<div>\n",
       "<style scoped>\n",
       "    .dataframe tbody tr th:only-of-type {\n",
       "        vertical-align: middle;\n",
       "    }\n",
       "\n",
       "    .dataframe tbody tr th {\n",
       "        vertical-align: top;\n",
       "    }\n",
       "\n",
       "    .dataframe thead th {\n",
       "        text-align: right;\n",
       "    }\n",
       "</style>\n",
       "<table border=\"1\" class=\"dataframe\">\n",
       "  <thead>\n",
       "    <tr style=\"text-align: right;\">\n",
       "      <th></th>\n",
       "      <th>email_body</th>\n",
       "      <th>subject</th>\n",
       "      <th>smart_tags</th>\n",
       "    </tr>\n",
       "  </thead>\n",
       "  <tbody>\n",
       "    <tr>\n",
       "      <td>0</td>\n",
       "      <td>here is our forecast</td>\n",
       "      <td>Subject:</td>\n",
       "      <td>['forecast']</td>\n",
       "    </tr>\n",
       "    <tr>\n",
       "      <td>1</td>\n",
       "      <td>traveling to have a business meeting takes the...</td>\n",
       "      <td>Subject: Re:</td>\n",
       "      <td>['travel', 'business', 'meeting', 'take', 'fun...</td>\n",
       "    </tr>\n",
       "    <tr>\n",
       "      <td>2</td>\n",
       "      <td>test successful way to go</td>\n",
       "      <td>Subject: Re: test</td>\n",
       "      <td>['test', 'successful', 'way']</td>\n",
       "    </tr>\n",
       "    <tr>\n",
       "      <td>3</td>\n",
       "      <td>randy can you send me a schedule of the salary...</td>\n",
       "      <td>Subject:</td>\n",
       "      <td>['randy', 'send', 'schedule', 'salary', 'level...</td>\n",
       "    </tr>\n",
       "    <tr>\n",
       "      <td>4</td>\n",
       "      <td>lets shoot for tuesday at</td>\n",
       "      <td>Subject: Re: Hello</td>\n",
       "      <td>['let', 'shoot', 'tuesday']</td>\n",
       "    </tr>\n",
       "    <tr>\n",
       "      <td>...</td>\n",
       "      <td>...</td>\n",
       "      <td>...</td>\n",
       "      <td>...</td>\n",
       "    </tr>\n",
       "    <tr>\n",
       "      <td>9995</td>\n",
       "      <td>shes pretty sexy huh are we getting together t...</td>\n",
       "      <td>Subject: Re: Evite: Super Bowl Party</td>\n",
       "      <td>['s', 'pretty', 'sexy', 'huh', 'get', 'talk', ...</td>\n",
       "    </tr>\n",
       "    <tr>\n",
       "      <td>9996</td>\n",
       "      <td>i copied your idea and it screwed up your name</td>\n",
       "      <td>Subject:</td>\n",
       "      <td>['copy', 'idea', 'screw']</td>\n",
       "    </tr>\n",
       "    <tr>\n",
       "      <td>9997</td>\n",
       "      <td>forwarded by eric basshouect on am troy kluss...</td>\n",
       "      <td>Subject: 9912 Texas Financial Liquidations</td>\n",
       "      <td>[' ', 'forward', 'eric', 'basshouect', 'troy',...</td>\n",
       "    </tr>\n",
       "    <tr>\n",
       "      <td>9998</td>\n",
       "      <td>did you buy any enron in the s</td>\n",
       "      <td>Subject:</td>\n",
       "      <td>['buy', 'enron', 's']</td>\n",
       "    </tr>\n",
       "    <tr>\n",
       "      <td>9999</td>\n",
       "      <td>yea thanks for reminding me about your bday i ...</td>\n",
       "      <td>Subject: Re:</td>\n",
       "      <td>['yea', 'thank', 'remind', 'bday', 'nearly', '...</td>\n",
       "    </tr>\n",
       "  </tbody>\n",
       "</table>\n",
       "<p>9993 rows × 3 columns</p>\n",
       "</div>"
      ],
      "text/plain": [
       "                                             email_body  \\\n",
       "0                                  here is our forecast   \n",
       "1     traveling to have a business meeting takes the...   \n",
       "2                             test successful way to go   \n",
       "3     randy can you send me a schedule of the salary...   \n",
       "4                            lets shoot for tuesday at    \n",
       "...                                                 ...   \n",
       "9995  shes pretty sexy huh are we getting together t...   \n",
       "9996     i copied your idea and it screwed up your name   \n",
       "9997   forwarded by eric basshouect on am troy kluss...   \n",
       "9998                     did you buy any enron in the s   \n",
       "9999  yea thanks for reminding me about your bday i ...   \n",
       "\n",
       "                                         subject  \\\n",
       "0                                       Subject:   \n",
       "1                                   Subject: Re:   \n",
       "2                              Subject: Re: test   \n",
       "3                                       Subject:   \n",
       "4                             Subject: Re: Hello   \n",
       "...                                          ...   \n",
       "9995        Subject: Re: Evite: Super Bowl Party   \n",
       "9996                                    Subject:   \n",
       "9997  Subject: 9912 Texas Financial Liquidations   \n",
       "9998                                    Subject:   \n",
       "9999                                Subject: Re:   \n",
       "\n",
       "                                             smart_tags  \n",
       "0                                          ['forecast']  \n",
       "1     ['travel', 'business', 'meeting', 'take', 'fun...  \n",
       "2                         ['test', 'successful', 'way']  \n",
       "3     ['randy', 'send', 'schedule', 'salary', 'level...  \n",
       "4                           ['let', 'shoot', 'tuesday']  \n",
       "...                                                 ...  \n",
       "9995  ['s', 'pretty', 'sexy', 'huh', 'get', 'talk', ...  \n",
       "9996                          ['copy', 'idea', 'screw']  \n",
       "9997  [' ', 'forward', 'eric', 'basshouect', 'troy',...  \n",
       "9998                              ['buy', 'enron', 's']  \n",
       "9999  ['yea', 'thank', 'remind', 'bday', 'nearly', '...  \n",
       "\n",
       "[9993 rows x 3 columns]"
      ]
     },
     "execution_count": 108,
     "metadata": {},
     "output_type": "execute_result"
    }
   ],
   "source": [
    "body"
   ]
  },
  {
   "cell_type": "code",
   "execution_count": 133,
   "metadata": {
    "colab": {},
    "colab_type": "code",
    "id": "tv4zphrAk6dn"
   },
   "outputs": [],
   "source": [
    "vectorizer = TfidfVectorizer(stop_words='english')\n",
    "X = vectorizer.fit_transform(body)\n",
    "y = vectorizer.fit_transform(searches)\n",
    "#kmeans = KMeans(n_clusters=2).fit(X)"
   ]
  },
  {
   "cell_type": "code",
   "execution_count": 134,
   "metadata": {},
   "outputs": [
    {
     "data": {
      "text/plain": [
       "KMeans(algorithm='auto', copy_x=True, init='k-means++', max_iter=200,\n",
       "       n_clusters=3, n_init=100, n_jobs=None, precompute_distances='auto',\n",
       "       random_state=None, tol=0.0001, verbose=0)"
      ]
     },
     "execution_count": 134,
     "metadata": {},
     "output_type": "execute_result"
    }
   ],
   "source": [
    "modelkmeans = KMeans(n_clusters=3, init='k-means++', max_iter=200, n_init=100)\n",
    "modelkmeans.fit(X)"
   ]
  },
  {
   "cell_type": "code",
   "execution_count": 135,
   "metadata": {},
   "outputs": [
    {
     "data": {
      "text/plain": [
       "array([[1., 0., 0.],\n",
       "       [0., 0., 1.],\n",
       "       [0., 1., 0.]])"
      ]
     },
     "execution_count": 135,
     "metadata": {},
     "output_type": "execute_result"
    }
   ],
   "source": [
    "modelkmeans.cluster_centers_"
   ]
  },
  {
   "cell_type": "code",
   "execution_count": 136,
   "metadata": {},
   "outputs": [
    {
     "data": {
      "text/plain": [
       "array([0, 1, 2], dtype=int32)"
      ]
     },
     "execution_count": 136,
     "metadata": {},
     "output_type": "execute_result"
    }
   ],
   "source": [
    "modelkmeans.labels_"
   ]
  },
  {
   "cell_type": "code",
   "execution_count": 141,
   "metadata": {},
   "outputs": [],
   "source": [
    "predicted_labels_kmeans = modelkmeans.predict(X)"
   ]
  },
  {
   "cell_type": "code",
   "execution_count": 143,
   "metadata": {},
   "outputs": [
    {
     "name": "stdout",
     "output_type": "stream",
     "text": [
      "\n",
      " trip to Austin : 0 \n",
      " when is the first quarter report due : 1 \n",
      " documentation for project : 2\n"
     ]
    }
   ],
   "source": [
    "print(\"\\n\",searches[0],\":\",predicted_labels_kmeans[0],\\\n",
    "        \"\\n\",searches[1],\":\",predicted_labels_kmeans[1],\\\n",
    "        \"\\n\",searches[2],\":\",predicted_labels_kmeans[2])"
   ]
  },
  {
   "cell_type": "code",
   "execution_count": null,
   "metadata": {},
   "outputs": [],
   "source": []
  },
  {
   "cell_type": "code",
   "execution_count": null,
   "metadata": {},
   "outputs": [],
   "source": []
  }
 ],
 "metadata": {
  "colab": {
   "collapsed_sections": [],
   "name": "KNN_Labels.ipynb",
   "provenance": []
  },
  "kernelspec": {
   "display_name": "Python 3",
   "language": "python",
   "name": "python3"
  },
  "language_info": {
   "codemirror_mode": {
    "name": "ipython",
    "version": 3
   },
   "file_extension": ".py",
   "mimetype": "text/x-python",
   "name": "python",
   "nbconvert_exporter": "python",
   "pygments_lexer": "ipython3",
   "version": "3.7.4"
  }
 },
 "nbformat": 4,
 "nbformat_minor": 4
}
